{
 "cells": [
  {
   "cell_type": "code",
   "execution_count": 49,
   "metadata": {},
   "outputs": [],
   "source": [
    "import re\n",
    "import pandas as pd\n",
    "from pathlib import Path\n",
    "\n",
    "\n",
    "class MergeData:\n",
    "\n",
    "    def __init__(self, raw_data_path: Path, output_data_path: Path):\n",
    "        self.raw_data_path = raw_data_path\n",
    "        self.output_data_path = output_data_path\n",
    "        self.html_regexp = re.compile(r'<.*?>')\n",
    "        self.df_train = pd.read_csv(raw_data_path+'train.csv')\n",
    "        self.df_json = pd.read_json(raw_data_path + 'vacancy_descriptions/1_parsed.json')\n",
    "        self.json_paths = [raw_data_path + 'vacancy_descriptions/' + str(i) + '_parsed.json' for i in range(2, 6)]\n",
    "        self.df_okz = pd.read_csv(raw_data_path+'okz_3_4_professions.csv', sep='\\t')\n",
    "\n",
    "    def merge(self):\n",
    "\n",
    "        df_json = self.df_json.copy(deep=True)\n",
    "        df_okz = self.df_okz.copy(deep=True)\n",
    "        df_train = self.df_train.copy(deep=True)\n",
    "\n",
    "        for path in self.json_paths:\n",
    "            df_json_temp = pd.read_json(path)\n",
    "            df_json = pd.concat([df_json, df_json_temp], axis=0)\n",
    "\n",
    "        df_json['content'] = df_json['Content'].apply(lambda x: list(x.values()))\n",
    "        df_json['index'] = df_json['ID']\n",
    "        df_json = df_json.drop(['Content', 'ID'],axis=1)\n",
    "\n",
    "        df_okz['profession_desc'] = df_okz['description']\n",
    "        df_okz['target'] = df_okz['code']\n",
    "        df_okz = df_okz.drop(['control_number', 'description', 'code'], axis=1)\n",
    "\n",
    "        df = df_json.merge(df_train, how='left', on='index')\n",
    "        df = df.merge(df_okz, on='target', how='left')\n",
    "\n",
    "        df = df.drop('name', axis=1)\n",
    "        df['target'] = df['target'].fillna(-1.0)\n",
    "        df['target'] = df['target'].astype(int)\n",
    "        df['description'] = df['description'].astype(str)\n",
    "        df['description'] = df['description'].apply(lambda x:  self.html_regexp.sub(r'', x))\n",
    "\n",
    "        df_labeled = df[df['target'] != -1].to_csv(self.output_data_path+'labeled.csv', index=False)\n",
    "        df_unlabeled = df[df['target'] == -1].to_csv(self.output_data_path+'unlabeled.csv', index=False)"
   ]
  },
  {
   "cell_type": "code",
   "execution_count": 50,
   "metadata": {},
   "outputs": [],
   "source": [
    "\n",
    "raw_data_path = str('../../data/raw/')\n",
    "output_data_path = str('../../data/processed/')\n",
    "merge_data = MergeData(raw_data_path, output_data_path)\n",
    "merge_data.merge()"
   ]
  },
  {
   "cell_type": "code",
   "execution_count": 51,
   "metadata": {},
   "outputs": [],
   "source": [
    "# open ../../data/processed/labeled.csv\n",
    "# open ../../data/processed/unlabeled.csv\n",
    "labeled = pd.read_csv('../../data/processed/labeled.csv')\n",
    "unlabeled = pd.read_csv('../../data/processed/unlabeled.csv')"
   ]
  },
  {
   "cell_type": "code",
   "execution_count": 60,
   "metadata": {},
   "outputs": [
    {
     "data": {
      "text/html": [
       "<div>\n",
       "<style scoped>\n",
       "    .dataframe tbody tr th:only-of-type {\n",
       "        vertical-align: middle;\n",
       "    }\n",
       "\n",
       "    .dataframe tbody tr th {\n",
       "        vertical-align: top;\n",
       "    }\n",
       "\n",
       "    .dataframe thead th {\n",
       "        text-align: right;\n",
       "    }\n",
       "</style>\n",
       "<table border=\"1\" class=\"dataframe\">\n",
       "  <thead>\n",
       "    <tr style=\"text-align: right;\">\n",
       "      <th></th>\n",
       "      <th>Position</th>\n",
       "      <th>content</th>\n",
       "      <th>index</th>\n",
       "      <th>description</th>\n",
       "      <th>target</th>\n",
       "      <th>profession</th>\n",
       "      <th>profession_desc</th>\n",
       "    </tr>\n",
       "  </thead>\n",
       "  <tbody>\n",
       "    <tr>\n",
       "      <th>0</th>\n",
       "      <td>Секретарь</td>\n",
       "      <td>[['Срочно требуется:Секретарь', 'Выплаты ежедн...</td>\n",
       "      <td>363107946</td>\n",
       "      <td>Срочно требуется: Секретарь. Выплаты ежедневно...</td>\n",
       "      <td>-1</td>\n",
       "      <td>NaN</td>\n",
       "      <td>NaN</td>\n",
       "    </tr>\n",
       "    <tr>\n",
       "      <th>1</th>\n",
       "      <td>Персональный менеджер</td>\n",
       "      <td>[['окончили вуз', 'разбираетесь в законах о ба...</td>\n",
       "      <td>363144355</td>\n",
       "      <td>NaN</td>\n",
       "      <td>-1</td>\n",
       "      <td>NaN</td>\n",
       "      <td>NaN</td>\n",
       "    </tr>\n",
       "    <tr>\n",
       "      <th>2</th>\n",
       "      <td>Продавец-консультант ECCO (ТЦ Сити Молл)</td>\n",
       "      <td>[['Обладаешь хорошими коммуникативными навыкам...</td>\n",
       "      <td>363340232</td>\n",
       "      <td>Датская компания ECCO более 50 лет входит в тр...</td>\n",
       "      <td>-1</td>\n",
       "      <td>NaN</td>\n",
       "      <td>NaN</td>\n",
       "    </tr>\n",
       "    <tr>\n",
       "      <th>3</th>\n",
       "      <td>Агент/Риэлтор (Помощник Риэлтора)</td>\n",
       "      <td>[['Организовывать и проводить просмотры/показы...</td>\n",
       "      <td>363383054</td>\n",
       "      <td>NaN</td>\n",
       "      <td>-1</td>\n",
       "      <td>NaN</td>\n",
       "      <td>NaN</td>\n",
       "    </tr>\n",
       "    <tr>\n",
       "      <th>4</th>\n",
       "      <td>Специалист по поддержке клиентов</td>\n",
       "      <td>[['Легко ориентируешься в огромном потоке ново...</td>\n",
       "      <td>363982236</td>\n",
       "      <td>NaN</td>\n",
       "      <td>-1</td>\n",
       "      <td>NaN</td>\n",
       "      <td>NaN</td>\n",
       "    </tr>\n",
       "  </tbody>\n",
       "</table>\n",
       "</div>"
      ],
      "text/plain": [
       "                                   Position  \\\n",
       "0                                 Секретарь   \n",
       "1                     Персональный менеджер   \n",
       "2  Продавец-консультант ECCO (ТЦ Сити Молл)   \n",
       "3         Агент/Риэлтор (Помощник Риэлтора)   \n",
       "4          Специалист по поддержке клиентов   \n",
       "\n",
       "                                             content      index  \\\n",
       "0  [['Срочно требуется:Секретарь', 'Выплаты ежедн...  363107946   \n",
       "1  [['окончили вуз', 'разбираетесь в законах о ба...  363144355   \n",
       "2  [['Обладаешь хорошими коммуникативными навыкам...  363340232   \n",
       "3  [['Организовывать и проводить просмотры/показы...  363383054   \n",
       "4  [['Легко ориентируешься в огромном потоке ново...  363982236   \n",
       "\n",
       "                                         description  target  profession  \\\n",
       "0  Срочно требуется: Секретарь. Выплаты ежедневно...      -1         NaN   \n",
       "1                                                NaN      -1         NaN   \n",
       "2  Датская компания ECCO более 50 лет входит в тр...      -1         NaN   \n",
       "3                                                NaN      -1         NaN   \n",
       "4                                                NaN      -1         NaN   \n",
       "\n",
       "   profession_desc  \n",
       "0              NaN  \n",
       "1              NaN  \n",
       "2              NaN  \n",
       "3              NaN  \n",
       "4              NaN  "
      ]
     },
     "execution_count": 60,
     "metadata": {},
     "output_type": "execute_result"
    }
   ],
   "source": [
    "unlabeled.head()"
   ]
  },
  {
   "cell_type": "code",
   "execution_count": 61,
   "metadata": {},
   "outputs": [
    {
     "data": {
      "text/plain": [
       "\"[['Срочно требуется:Секретарь', 'Выплаты ежедневно', 'Мы работаем с лучшими залами  Государственный Кремлевский Дворец, Крокус Сити Холл, Международный Дом Музыки и другие', 'Мы работаем с лучшими артистами']]\""
      ]
     },
     "execution_count": 61,
     "metadata": {},
     "output_type": "execute_result"
    }
   ],
   "source": [
    "unlabeled.iloc[0]['content']"
   ]
  },
  {
   "cell_type": "code",
   "execution_count": 62,
   "metadata": {},
   "outputs": [
    {
     "data": {
      "text/plain": [
       "'Срочно требуется: Секретарь. Выплаты ежедневно. Мы работаем с лучшими залами - Государственный Кремлевский Дворец, Крокус Сити Холл, Международный Дом Музыки и другие! Мы работаем с лучшими артистами!   Нам нужно от Вас:  грамотная русская речь позитивный подход к клиентам желание работать и развиваться интенсивно работать с клиентами полный рабочий день готовность приступить прямо сейчас    Что нужно делать:  работать с существующей базой клиентов Компании продавать билеты по телефону развивать свою команду для открытия собственного офиса Компании    Что Мы предлагаем:  пятидневная бизнес неделя (пн-пт, 09:30 - 18:30) ежедневный зароботок в зависимости от личных результатов (от 5 000 до 20 000 рублей в день) карьерный рост в течение первых нескольких месяцев в бизнесе до управляющего офисом Компании неограниченные заработки для управляющих офисами Компании семинары с лучшим бизнес-тренером в России бесплатное посещение мероприятий Компании \\nГрамотная русская речь. Позитивный подход к клиентам. Желание работать и развиваться. Интенсивно работать с клиентами полный рабочий день. \\nРаботать с существующей базой клиентов Компании. Продавать билеты по телефону. Развивать свою команду для открытия собственного офиса Компании.'"
      ]
     },
     "execution_count": 62,
     "metadata": {},
     "output_type": "execute_result"
    }
   ],
   "source": [
    "unlabeled.iloc[0]['description']"
   ]
  },
  {
   "cell_type": "code",
   "execution_count": 63,
   "metadata": {},
   "outputs": [],
   "source": [
    "okz = pd.read_csv('../../data/raw/okz_3_4_professions.csv', sep='\\t')"
   ]
  },
  {
   "cell_type": "code",
   "execution_count": 75,
   "metadata": {},
   "outputs": [
    {
     "data": {
      "text/plain": [
       "'Демонстраторы товаров '"
      ]
     },
     "execution_count": 75,
     "metadata": {},
     "output_type": "execute_result"
    }
   ],
   "source": [
    "# find in profession \"секретарь\"\n",
    "okz[okz['description'].str.contains('Продавец-консультант')]['profession'].iloc[3]"
   ]
  },
  {
   "cell_type": "code",
   "execution_count": 80,
   "metadata": {},
   "outputs": [
    {
     "data": {
      "image/png": "[encoded data removed]",
      "text/plain": [
       "<Figure size 1440x720 with 1 Axes>"
      ]
     },
     "metadata": {
      "needs_background": "light"
     },
     "output_type": "display_data"
    }
   ],
   "source": [
    "import matplotlib.pyplot as plt\n",
    "import seaborn as sns\n",
    "\n",
    "# plot distribution of target\n",
    "plt.figure(figsize=(20, 10))\n",
    "sns.countplot(x='target', data=labeled)\n",
    "plt.show()"
   ]
  },
  {
   "cell_type": "code",
   "execution_count": 82,
   "metadata": {},
   "outputs": [
    {
     "data": {
      "text/plain": [
       "target\n",
       "6121    1503\n",
       "5223    1173\n",
       "9613     606\n",
       "2411     543\n",
       "3221     492\n",
       "        ... \n",
       "7119      28\n",
       "7112      28\n",
       "6111      28\n",
       "1321      23\n",
       "5246       1\n",
       "Name: index, Length: 76, dtype: int64"
      ]
     },
     "execution_count": 82,
     "metadata": {},
     "output_type": "execute_result"
    }
   ],
   "source": [
    "labeled.groupby('target').count()['index'].sort_values(ascending=False)"
   ]
  },
  {
   "cell_type": "code",
   "execution_count": 87,
   "metadata": {},
   "outputs": [
    {
     "data": {
      "text/html": [
       "<div>\n",
       "<style scoped>\n",
       "    .dataframe tbody tr th:only-of-type {\n",
       "        vertical-align: middle;\n",
       "    }\n",
       "\n",
       "    .dataframe tbody tr th {\n",
       "        vertical-align: top;\n",
       "    }\n",
       "\n",
       "    .dataframe thead th {\n",
       "        text-align: right;\n",
       "    }\n",
       "</style>\n",
       "<table border=\"1\" class=\"dataframe\">\n",
       "  <thead>\n",
       "    <tr style=\"text-align: right;\">\n",
       "      <th></th>\n",
       "      <th>Position</th>\n",
       "      <th>content</th>\n",
       "      <th>index</th>\n",
       "      <th>description</th>\n",
       "      <th>target</th>\n",
       "      <th>profession</th>\n",
       "      <th>profession_desc</th>\n",
       "    </tr>\n",
       "  </thead>\n",
       "  <tbody>\n",
       "    <tr>\n",
       "      <th>0</th>\n",
       "      <td>Секретарь</td>\n",
       "      <td>[['Срочно требуется:Секретарь', 'Выплаты ежедн...</td>\n",
       "      <td>363107946</td>\n",
       "      <td>Срочно требуется: Секретарь. Выплаты ежедневно...</td>\n",
       "      <td>-1</td>\n",
       "      <td>NaN</td>\n",
       "      <td>NaN</td>\n",
       "    </tr>\n",
       "    <tr>\n",
       "      <th>1</th>\n",
       "      <td>Персональный менеджер</td>\n",
       "      <td>[['окончили вуз', 'разбираетесь в законах о ба...</td>\n",
       "      <td>363144355</td>\n",
       "      <td>NaN</td>\n",
       "      <td>-1</td>\n",
       "      <td>NaN</td>\n",
       "      <td>NaN</td>\n",
       "    </tr>\n",
       "    <tr>\n",
       "      <th>2</th>\n",
       "      <td>Продавец-консультант ECCO (ТЦ Сити Молл)</td>\n",
       "      <td>[['Обладаешь хорошими коммуникативными навыкам...</td>\n",
       "      <td>363340232</td>\n",
       "      <td>Датская компания ECCO более 50 лет входит в тр...</td>\n",
       "      <td>-1</td>\n",
       "      <td>NaN</td>\n",
       "      <td>NaN</td>\n",
       "    </tr>\n",
       "    <tr>\n",
       "      <th>3</th>\n",
       "      <td>Агент/Риэлтор (Помощник Риэлтора)</td>\n",
       "      <td>[['Организовывать и проводить просмотры/показы...</td>\n",
       "      <td>363383054</td>\n",
       "      <td>NaN</td>\n",
       "      <td>-1</td>\n",
       "      <td>NaN</td>\n",
       "      <td>NaN</td>\n",
       "    </tr>\n",
       "    <tr>\n",
       "      <th>4</th>\n",
       "      <td>Специалист по поддержке клиентов</td>\n",
       "      <td>[['Легко ориентируешься в огромном потоке ново...</td>\n",
       "      <td>363982236</td>\n",
       "      <td>NaN</td>\n",
       "      <td>-1</td>\n",
       "      <td>NaN</td>\n",
       "      <td>NaN</td>\n",
       "    </tr>\n",
       "  </tbody>\n",
       "</table>\n",
       "</div>"
      ],
      "text/plain": [
       "                                   Position  \\\n",
       "0                                 Секретарь   \n",
       "1                     Персональный менеджер   \n",
       "2  Продавец-консультант ECCO (ТЦ Сити Молл)   \n",
       "3         Агент/Риэлтор (Помощник Риэлтора)   \n",
       "4          Специалист по поддержке клиентов   \n",
       "\n",
       "                                             content      index  \\\n",
       "0  [['Срочно требуется:Секретарь', 'Выплаты ежедн...  363107946   \n",
       "1  [['окончили вуз', 'разбираетесь в законах о ба...  363144355   \n",
       "2  [['Обладаешь хорошими коммуникативными навыкам...  363340232   \n",
       "3  [['Организовывать и проводить просмотры/показы...  363383054   \n",
       "4  [['Легко ориентируешься в огромном потоке ново...  363982236   \n",
       "\n",
       "                                         description  target  profession  \\\n",
       "0  Срочно требуется: Секретарь. Выплаты ежедневно...      -1         NaN   \n",
       "1                                                NaN      -1         NaN   \n",
       "2  Датская компания ECCO более 50 лет входит в тр...      -1         NaN   \n",
       "3                                                NaN      -1         NaN   \n",
       "4                                                NaN      -1         NaN   \n",
       "\n",
       "   profession_desc  \n",
       "0              NaN  \n",
       "1              NaN  \n",
       "2              NaN  \n",
       "3              NaN  \n",
       "4              NaN  "
      ]
     },
     "execution_count": 87,
     "metadata": {},
     "output_type": "execute_result"
    }
   ],
   "source": [
    "unlabeled.head()"
   ]
  },
  {
   "cell_type": "code",
   "execution_count": 98,
   "metadata": {},
   "outputs": [
    {
     "data": {
      "text/html": [
       "<div>\n",
       "<style scoped>\n",
       "    .dataframe tbody tr th:only-of-type {\n",
       "        vertical-align: middle;\n",
       "    }\n",
       "\n",
       "    .dataframe tbody tr th {\n",
       "        vertical-align: top;\n",
       "    }\n",
       "\n",
       "    .dataframe thead th {\n",
       "        text-align: right;\n",
       "    }\n",
       "</style>\n",
       "<table border=\"1\" class=\"dataframe\">\n",
       "  <thead>\n",
       "    <tr style=\"text-align: right;\">\n",
       "      <th></th>\n",
       "      <th>code</th>\n",
       "      <th>control_number</th>\n",
       "      <th>profession</th>\n",
       "      <th>description</th>\n",
       "    </tr>\n",
       "  </thead>\n",
       "  <tbody>\n",
       "    <tr>\n",
       "      <th>0</th>\n",
       "      <td>111</td>\n",
       "      <td>6.0</td>\n",
       "      <td>Руководители (представители) федеральных и рег...</td>\n",
       "      <td>Руководители\\n(представители) федеральных и р...</td>\n",
       "    </tr>\n",
       "    <tr>\n",
       "      <th>1</th>\n",
       "      <td>1111</td>\n",
       "      <td>7.0</td>\n",
       "      <td>Руководители федеральных и региональных органо...</td>\n",
       "      <td>Руководители (представители) федеральных и ре...</td>\n",
       "    </tr>\n",
       "    <tr>\n",
       "      <th>2</th>\n",
       "      <td>1112</td>\n",
       "      <td>3.0</td>\n",
       "      <td>Руководители (представители) федеральных и рег...</td>\n",
       "      <td>\\nРуководители (представители) федеральных и ...</td>\n",
       "    </tr>\n",
       "    <tr>\n",
       "      <th>3</th>\n",
       "      <td>1113</td>\n",
       "      <td>7.0</td>\n",
       "      <td>Руководители органов местного самоуправления</td>\n",
       "      <td>Руководители органов местного самоуправления ...</td>\n",
       "    </tr>\n",
       "    <tr>\n",
       "      <th>4</th>\n",
       "      <td>1114</td>\n",
       "      <td>0.0</td>\n",
       "      <td>Высшие должностные лица политических и обществ...</td>\n",
       "      <td>Высшие должностные лица политических\\nи общес...</td>\n",
       "    </tr>\n",
       "  </tbody>\n",
       "</table>\n",
       "</div>"
      ],
      "text/plain": [
       "   code  control_number                                         profession  \\\n",
       "0   111             6.0  Руководители (представители) федеральных и рег...   \n",
       "1  1111             7.0  Руководители федеральных и региональных органо...   \n",
       "2  1112             3.0  Руководители (представители) федеральных и рег...   \n",
       "3  1113             7.0      Руководители органов местного самоуправления    \n",
       "4  1114             0.0  Высшие должностные лица политических и обществ...   \n",
       "\n",
       "                                         description  \n",
       "0   Руководители\\n(представители) федеральных и р...  \n",
       "1   Руководители (представители) федеральных и ре...  \n",
       "2   \\nРуководители (представители) федеральных и ...  \n",
       "3   Руководители органов местного самоуправления ...  \n",
       "4   Высшие должностные лица политических\\nи общес...  "
      ]
     },
     "execution_count": 98,
     "metadata": {},
     "output_type": "execute_result"
    }
   ],
   "source": [
    "# open ../data/raw/okz_3_4_professions.csv\n",
    "okz = pd.read_csv('../../data/raw/okz_3_4_professions.csv', sep='\\t')\n",
    "okz.head()"
   ]
  },
  {
   "cell_type": "code",
   "execution_count": 94,
   "metadata": {},
   "outputs": [
    {
     "data": {
      "text/plain": [
       "['Агент', 'Риэлтор']"
      ]
     },
     "execution_count": 94,
     "metadata": {},
     "output_type": "execute_result"
    }
   ],
   "source": [
    "# function for cleaning position name\n",
    "def clean_position_name(position_name) -> list:\n",
    "    # delete after (\n",
    "    position_name = re.sub(r'\\(.*?\\)', '', position_name)\n",
    "    # parse position name by space / - ,\n",
    "    position_name = re.sub(r'[\\s/-]', ' ', position_name)\n",
    "    # delete all symbols except letters\n",
    "    position_name = re.sub(r'[^а-яА-Я]', ' ', position_name)\n",
    "    # split by space\n",
    "    position_name = position_name.split()\n",
    "    # delete empty strings\n",
    "    position_name = list(filter(None, position_name))\n",
    "    return position_name\n",
    "\n",
    "clean_position_name('Агент/Риэлтор (Помощник Риэлтора)')"
   ]
  },
  {
   "cell_type": "code",
   "execution_count": 103,
   "metadata": {},
   "outputs": [
    {
     "data": {
      "text/html": [
       "<div>\n",
       "<style scoped>\n",
       "    .dataframe tbody tr th:only-of-type {\n",
       "        vertical-align: middle;\n",
       "    }\n",
       "\n",
       "    .dataframe tbody tr th {\n",
       "        vertical-align: top;\n",
       "    }\n",
       "\n",
       "    .dataframe thead th {\n",
       "        text-align: right;\n",
       "    }\n",
       "</style>\n",
       "<table border=\"1\" class=\"dataframe\">\n",
       "  <thead>\n",
       "    <tr style=\"text-align: right;\">\n",
       "      <th></th>\n",
       "      <th>Position</th>\n",
       "      <th>index</th>\n",
       "      <th>target</th>\n",
       "    </tr>\n",
       "  </thead>\n",
       "  <tbody>\n",
       "    <tr>\n",
       "      <th>0</th>\n",
       "      <td>[Секретарь]</td>\n",
       "      <td>363107946</td>\n",
       "      <td>-1</td>\n",
       "    </tr>\n",
       "    <tr>\n",
       "      <th>1</th>\n",
       "      <td>[Персональный, менеджер]</td>\n",
       "      <td>363144355</td>\n",
       "      <td>-1</td>\n",
       "    </tr>\n",
       "    <tr>\n",
       "      <th>2</th>\n",
       "      <td>[Продавец, консультант]</td>\n",
       "      <td>363340232</td>\n",
       "      <td>-1</td>\n",
       "    </tr>\n",
       "    <tr>\n",
       "      <th>3</th>\n",
       "      <td>[Агент, Риэлтор]</td>\n",
       "      <td>363383054</td>\n",
       "      <td>-1</td>\n",
       "    </tr>\n",
       "    <tr>\n",
       "      <th>4</th>\n",
       "      <td>[Специалист, по, поддержке, клиентов]</td>\n",
       "      <td>363982236</td>\n",
       "      <td>-1</td>\n",
       "    </tr>\n",
       "  </tbody>\n",
       "</table>\n",
       "</div>"
      ],
      "text/plain": [
       "                                Position      index  target\n",
       "0                            [Секретарь]  363107946      -1\n",
       "1               [Персональный, менеджер]  363144355      -1\n",
       "2                [Продавец, консультант]  363340232      -1\n",
       "3                       [Агент, Риэлтор]  363383054      -1\n",
       "4  [Специалист, по, поддержке, клиентов]  363982236      -1"
      ]
     },
     "execution_count": 103,
     "metadata": {},
     "output_type": "execute_result"
    }
   ],
   "source": [
    "# df of cleaned position names, index and target\n",
    "df_position_name = pd.DataFrame(columns=['Position', 'index', 'target'])\n",
    "df_position_name['Position'] = unlabeled['Position'].apply(clean_position_name)\n",
    "df_position_name['index'] = unlabeled['index']\n",
    "df_position_name['target'] = unlabeled['target']\n",
    "df_position_name.head()"
   ]
  },
  {
   "cell_type": "code",
   "execution_count": 117,
   "metadata": {},
   "outputs": [],
   "source": [
    "# find best match okz description for position name\n",
    "def find_best_match(df_position_name) -> dict:\n",
    "    # {position_name: {okz_code: count of matches}}\n",
    "    position_name_okz = {}\n",
    "    for index, row in df_position_name.iterrows():\n",
    "        position_name = row['Position']\n",
    "        okz_code = row['target']\n",
    "        position_name_okz[index] = {}\n",
    "        for i in range(len(position_name)):\n",
    "            for j in range(i+1, len(position_name)):\n",
    "                word = ' '.join(position_name[i:j])\n",
    "                okz_desc = okz[okz['description'].str.contains(word)]['code'].values\n",
    "                for code in okz_desc:\n",
    "                    if code in position_name_okz[index]:\n",
    "                        position_name_okz[index][code] += 3\n",
    "                    else:\n",
    "                        position_name_okz[index][code] = 2\n",
    "        for word in position_name:\n",
    "            okz_desc = okz[okz['description'].str.contains(word)]['code'].values\n",
    "            for code in okz_desc:\n",
    "                if code in position_name_okz[index]:\n",
    "                    position_name_okz[index][code] += 1.5\n",
    "                else:\n",
    "                    position_name_okz[index][code] = 1\n",
    "            \n",
    "    return position_name_okz"
   ]
  },
  {
   "cell_type": "code",
   "execution_count": 133,
   "metadata": {},
   "outputs": [],
   "source": [
    "position_name_okz = find_best_match(df_position_name)"
   ]
  },
  {
   "cell_type": "code",
   "execution_count": 125,
   "metadata": {},
   "outputs": [],
   "source": [
    "position_name_okz_best = [max(position_name_okz[ind], key=position_name_okz[ind].get, default=-1) for ind in position_name_okz]"
   ]
  },
  {
   "cell_type": "code",
   "execution_count": 130,
   "metadata": {},
   "outputs": [],
   "source": [
    "unlabeled['target'] = position_name_okz_best"
   ]
  },
  {
   "cell_type": "code",
   "execution_count": 131,
   "metadata": {},
   "outputs": [
    {
     "data": {
      "text/html": [
       "<div>\n",
       "<style scoped>\n",
       "    .dataframe tbody tr th:only-of-type {\n",
       "        vertical-align: middle;\n",
       "    }\n",
       "\n",
       "    .dataframe tbody tr th {\n",
       "        vertical-align: top;\n",
       "    }\n",
       "\n",
       "    .dataframe thead th {\n",
       "        text-align: right;\n",
       "    }\n",
       "</style>\n",
       "<table border=\"1\" class=\"dataframe\">\n",
       "  <thead>\n",
       "    <tr style=\"text-align: right;\">\n",
       "      <th></th>\n",
       "      <th>Position</th>\n",
       "      <th>content</th>\n",
       "      <th>index</th>\n",
       "      <th>description</th>\n",
       "      <th>target</th>\n",
       "      <th>profession</th>\n",
       "      <th>profession_desc</th>\n",
       "    </tr>\n",
       "  </thead>\n",
       "  <tbody>\n",
       "    <tr>\n",
       "      <th>0</th>\n",
       "      <td>Секретарь</td>\n",
       "      <td>[['Срочно требуется:Секретарь', 'Выплаты ежедн...</td>\n",
       "      <td>363107946</td>\n",
       "      <td>Срочно требуется: Секретарь. Выплаты ежедневно...</td>\n",
       "      <td>2612</td>\n",
       "      <td>NaN</td>\n",
       "      <td>NaN</td>\n",
       "    </tr>\n",
       "    <tr>\n",
       "      <th>1</th>\n",
       "      <td>Персональный менеджер</td>\n",
       "      <td>[['окончили вуз', 'разбираетесь в законах о ба...</td>\n",
       "      <td>363144355</td>\n",
       "      <td>NaN</td>\n",
       "      <td>3423</td>\n",
       "      <td>NaN</td>\n",
       "      <td>NaN</td>\n",
       "    </tr>\n",
       "    <tr>\n",
       "      <th>2</th>\n",
       "      <td>Продавец-консультант ECCO (ТЦ Сити Молл)</td>\n",
       "      <td>[['Обладаешь хорошими коммуникативными навыкам...</td>\n",
       "      <td>363340232</td>\n",
       "      <td>Датская компания ECCO более 50 лет входит в тр...</td>\n",
       "      <td>1420</td>\n",
       "      <td>NaN</td>\n",
       "      <td>NaN</td>\n",
       "    </tr>\n",
       "    <tr>\n",
       "      <th>3</th>\n",
       "      <td>Агент/Риэлтор (Помощник Риэлтора)</td>\n",
       "      <td>[['Организовывать и проводить просмотры/показы...</td>\n",
       "      <td>363383054</td>\n",
       "      <td>NaN</td>\n",
       "      <td>3334</td>\n",
       "      <td>NaN</td>\n",
       "      <td>NaN</td>\n",
       "    </tr>\n",
       "    <tr>\n",
       "      <th>4</th>\n",
       "      <td>Специалист по поддержке клиентов</td>\n",
       "      <td>[['Легко ориентируешься в огромном потоке ново...</td>\n",
       "      <td>363982236</td>\n",
       "      <td>NaN</td>\n",
       "      <td>351</td>\n",
       "      <td>NaN</td>\n",
       "      <td>NaN</td>\n",
       "    </tr>\n",
       "  </tbody>\n",
       "</table>\n",
       "</div>"
      ],
      "text/plain": [
       "                                   Position  \\\n",
       "0                                 Секретарь   \n",
       "1                     Персональный менеджер   \n",
       "2  Продавец-консультант ECCO (ТЦ Сити Молл)   \n",
       "3         Агент/Риэлтор (Помощник Риэлтора)   \n",
       "4          Специалист по поддержке клиентов   \n",
       "\n",
       "                                             content      index  \\\n",
       "0  [['Срочно требуется:Секретарь', 'Выплаты ежедн...  363107946   \n",
       "1  [['окончили вуз', 'разбираетесь в законах о ба...  363144355   \n",
       "2  [['Обладаешь хорошими коммуникативными навыкам...  363340232   \n",
       "3  [['Организовывать и проводить просмотры/показы...  363383054   \n",
       "4  [['Легко ориентируешься в огромном потоке ново...  363982236   \n",
       "\n",
       "                                         description  target  profession  \\\n",
       "0  Срочно требуется: Секретарь. Выплаты ежедневно...    2612         NaN   \n",
       "1                                                NaN    3423         NaN   \n",
       "2  Датская компания ECCO более 50 лет входит в тр...    1420         NaN   \n",
       "3                                                NaN    3334         NaN   \n",
       "4                                                NaN     351         NaN   \n",
       "\n",
       "   profession_desc  \n",
       "0              NaN  \n",
       "1              NaN  \n",
       "2              NaN  \n",
       "3              NaN  \n",
       "4              NaN  "
      ]
     },
     "execution_count": 131,
     "metadata": {},
     "output_type": "execute_result"
    }
   ],
   "source": [
    "unlabeled.head()"
   ]
  },
  {
   "cell_type": "code",
   "execution_count": 132,
   "metadata": {},
   "outputs": [],
   "source": [
    "unlabeled.to_csv('../../data/processed/unlabeled_with_labels.csv', index=False)"
   ]
  },
  {
   "cell_type": "code",
   "execution_count": null,
   "metadata": {},
   "outputs": [],
   "source": []
  }
 ],
 "metadata": {
  "kernelspec": {
   "display_name": "Python 3.9.6 64-bit",
   "language": "python",
   "name": "python3"
  },
  "language_info": {
   "codemirror_mode": {
    "name": "ipython",
    "version": 3
   },
   "file_extension": ".py",
   "mimetype": "text/x-python",
   "name": "python",
   "nbconvert_exporter": "python",
   "pygments_lexer": "ipython3",
   "version": "3.9.6"
  },
  "orig_nbformat": 4,
  "vscode": {
   "interpreter": {
    "hash": "173ae74ecd759d33659dc89cc0ace91dba90ddaa088b7a848a7f37d845ddcc5d"
   }
  }
 },
 "nbformat": 4,
 "nbformat_minor": 2
}
