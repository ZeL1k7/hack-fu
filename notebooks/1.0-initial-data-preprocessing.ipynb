{
 "cells": [
  {
   "cell_type": "code",
   "execution_count": 1,
   "id": "fafe9196",
   "metadata": {},
   "outputs": [],
   "source": [
    "import re\n",
    "import json\n",
    "import pandas as pd"
   ]
  },
  {
   "cell_type": "code",
   "execution_count": 2,
   "id": "e8284e6e",
   "metadata": {},
   "outputs": [],
   "source": [
    "PATH = '/mnt/disk_d/hack-fu/data/raw/'\n",
    "OUTPUT_PATH =  '/mnt/disk_d/hack-fu/data/interim/'"
   ]
  },
  {
   "cell_type": "markdown",
   "id": "738ea78d",
   "metadata": {},
   "source": [
    "# train.csv"
   ]
  },
  {
   "cell_type": "code",
   "execution_count": 3,
   "id": "db5f1c76",
   "metadata": {},
   "outputs": [
    {
     "data": {
      "text/html": [
       "<div>\n",
       "<style scoped>\n",
       "    .dataframe tbody tr th:only-of-type {\n",
       "        vertical-align: middle;\n",
       "    }\n",
       "\n",
       "    .dataframe tbody tr th {\n",
       "        vertical-align: top;\n",
       "    }\n",
       "\n",
       "    .dataframe thead th {\n",
       "        text-align: right;\n",
       "    }\n",
       "</style>\n",
       "<table border=\"1\" class=\"dataframe\">\n",
       "  <thead>\n",
       "    <tr style=\"text-align: right;\">\n",
       "      <th></th>\n",
       "      <th>index</th>\n",
       "      <th>name</th>\n",
       "      <th>description</th>\n",
       "      <th>target</th>\n",
       "    </tr>\n",
       "  </thead>\n",
       "  <tbody>\n",
       "    <tr>\n",
       "      <th>0</th>\n",
       "      <td>324865089</td>\n",
       "      <td>продавец кассир</td>\n",
       "      <td>&lt;strong&gt;Обязанности:&lt;/strong&gt; &lt;ul&gt; &lt;li&gt;работа ...</td>\n",
       "      <td>-1</td>\n",
       "    </tr>\n",
       "    <tr>\n",
       "      <th>1</th>\n",
       "      <td>169467135</td>\n",
       "      <td>продавец мила (шевченко 17)</td>\n",
       "      <td>&lt;p&gt;&lt;strong&gt;Магазин МИЛА по адресу б-р Шевченко...</td>\n",
       "      <td>-1</td>\n",
       "    </tr>\n",
       "    <tr>\n",
       "      <th>2</th>\n",
       "      <td>169939030</td>\n",
       "      <td>кассир в пиццерию г витебск</td>\n",
       "      <td>&lt;p&gt;&lt;strong&gt;Устал искать работу? Может, хочешь ...</td>\n",
       "      <td>5223</td>\n",
       "    </tr>\n",
       "  </tbody>\n",
       "</table>\n",
       "</div>"
      ],
      "text/plain": [
       "       index                         name  \\\n",
       "0  324865089              продавец кассир   \n",
       "1  169467135  продавец мила (шевченко 17)   \n",
       "2  169939030  кассир в пиццерию г витебск   \n",
       "\n",
       "                                         description  target  \n",
       "0  <strong>Обязанности:</strong> <ul> <li>работа ...      -1  \n",
       "1  <p><strong>Магазин МИЛА по адресу б-р Шевченко...      -1  \n",
       "2  <p><strong>Устал искать работу? Может, хочешь ...    5223  "
      ]
     },
     "execution_count": 3,
     "metadata": {},
     "output_type": "execute_result"
    }
   ],
   "source": [
    "df_train = pd.read_csv(PATH+'train.csv')\n",
    "df_train.head(3)"
   ]
  },
  {
   "cell_type": "code",
   "execution_count": 4,
   "id": "f16bd8f2",
   "metadata": {},
   "outputs": [],
   "source": [
    "df_train_labeled = df_train[df_train['target'] != -1]\n",
    "df_train_unlabeled = df_train[df_train['target'] == -1]"
   ]
  },
  {
   "cell_type": "code",
   "execution_count": 5,
   "id": "19597b9f",
   "metadata": {},
   "outputs": [
    {
     "data": {
      "text/plain": [
       "6121    1521\n",
       "5223    1288\n",
       "9613     622\n",
       "2411     562\n",
       "3221     500\n",
       "        ... \n",
       "3252      30\n",
       "4224      29\n",
       "6111      29\n",
       "1321      24\n",
       "5246       1\n",
       "Name: target, Length: 76, dtype: int64"
      ]
     },
     "execution_count": 5,
     "metadata": {},
     "output_type": "execute_result"
    }
   ],
   "source": [
    "df_train_labeled['target'].value_counts().sort_values(ascending = False)"
   ]
  },
  {
   "cell_type": "markdown",
   "id": "a521b379",
   "metadata": {},
   "source": [
    "# test.csv"
   ]
  },
  {
   "cell_type": "code",
   "execution_count": 6,
   "id": "f981bbce",
   "metadata": {},
   "outputs": [
    {
     "data": {
      "text/html": [
       "<div>\n",
       "<style scoped>\n",
       "    .dataframe tbody tr th:only-of-type {\n",
       "        vertical-align: middle;\n",
       "    }\n",
       "\n",
       "    .dataframe tbody tr th {\n",
       "        vertical-align: top;\n",
       "    }\n",
       "\n",
       "    .dataframe thead th {\n",
       "        text-align: right;\n",
       "    }\n",
       "</style>\n",
       "<table border=\"1\" class=\"dataframe\">\n",
       "  <thead>\n",
       "    <tr style=\"text-align: right;\">\n",
       "      <th></th>\n",
       "      <th>index</th>\n",
       "      <th>name</th>\n",
       "      <th>description</th>\n",
       "    </tr>\n",
       "  </thead>\n",
       "  <tbody>\n",
       "    <tr>\n",
       "      <th>0</th>\n",
       "      <td>28357560</td>\n",
       "      <td>продавец консультант в магазин профессионально...</td>\n",
       "      <td>&lt;strong&gt;Обязанности:&lt;/strong&gt; &lt;ul&gt; &lt;li&gt;Продажи...</td>\n",
       "    </tr>\n",
       "    <tr>\n",
       "      <th>1</th>\n",
       "      <td>114041896</td>\n",
       "      <td>торговый представитель (севастополь)</td>\n",
       "      <td>&lt;p&gt;&lt;strong&gt;Обязанности:&lt;/strong&gt;&lt;/p&gt; &lt;ul&gt; &lt;li&gt;...</td>\n",
       "    </tr>\n",
       "    <tr>\n",
       "      <th>2</th>\n",
       "      <td>78645675</td>\n",
       "      <td>торговый представитель (город+район заречный)</td>\n",
       "      <td>&lt;p&gt;&lt;strong&gt;Ключевые задачи:&lt;/strong&gt;&lt;/p&gt; &lt;ul&gt; ...</td>\n",
       "    </tr>\n",
       "  </tbody>\n",
       "</table>\n",
       "</div>"
      ],
      "text/plain": [
       "       index                                               name  \\\n",
       "0   28357560  продавец консультант в магазин профессионально...   \n",
       "1  114041896               торговый представитель (севастополь)   \n",
       "2   78645675      торговый представитель (город+район заречный)   \n",
       "\n",
       "                                         description  \n",
       "0  <strong>Обязанности:</strong> <ul> <li>Продажи...  \n",
       "1  <p><strong>Обязанности:</strong></p> <ul> <li>...  \n",
       "2  <p><strong>Ключевые задачи:</strong></p> <ul> ...  "
      ]
     },
     "execution_count": 6,
     "metadata": {},
     "output_type": "execute_result"
    }
   ],
   "source": [
    "df_test = pd.read_csv(PATH+'test.csv')\n",
    "df_test.head(3)"
   ]
  },
  {
   "cell_type": "markdown",
   "id": "8fe0e1ca",
   "metadata": {},
   "source": [
    "# okz_3_4_professions.csv"
   ]
  },
  {
   "cell_type": "code",
   "execution_count": 7,
   "id": "e44b6457",
   "metadata": {
    "scrolled": true
   },
   "outputs": [],
   "source": [
    "#df_okz = pd.read_csv(PATH+'okz_3_4_professions.csv')\n",
    "#df_okz.head(3)"
   ]
  },
  {
   "cell_type": "markdown",
   "id": "6d0e1617",
   "metadata": {},
   "source": [
    "# parsed_json.json"
   ]
  },
  {
   "cell_type": "code",
   "execution_count": 8,
   "id": "94a7546d",
   "metadata": {},
   "outputs": [
    {
     "data": {
      "text/html": [
       "<div>\n",
       "<style scoped>\n",
       "    .dataframe tbody tr th:only-of-type {\n",
       "        vertical-align: middle;\n",
       "    }\n",
       "\n",
       "    .dataframe tbody tr th {\n",
       "        vertical-align: top;\n",
       "    }\n",
       "\n",
       "    .dataframe thead th {\n",
       "        text-align: right;\n",
       "    }\n",
       "</style>\n",
       "<table border=\"1\" class=\"dataframe\">\n",
       "  <thead>\n",
       "    <tr style=\"text-align: right;\">\n",
       "      <th></th>\n",
       "      <th>ID</th>\n",
       "      <th>Position</th>\n",
       "      <th>Content</th>\n",
       "    </tr>\n",
       "  </thead>\n",
       "  <tbody>\n",
       "    <tr>\n",
       "      <th>0</th>\n",
       "      <td>363107946</td>\n",
       "      <td>Секретарь</td>\n",
       "      <td>{'Условия': ['Срочно требуется:Секретарь', 'Вы...</td>\n",
       "    </tr>\n",
       "    <tr>\n",
       "      <th>1</th>\n",
       "      <td>363125198</td>\n",
       "      <td>Заместитель управляющего магазином</td>\n",
       "      <td>{'Условия': ['Наша миссия — мы делаем качество...</td>\n",
       "    </tr>\n",
       "    <tr>\n",
       "      <th>2</th>\n",
       "      <td>363144355</td>\n",
       "      <td>Персональный менеджер</td>\n",
       "      <td>{'Требования': ['окончили вуз', 'разбираетесь ...</td>\n",
       "    </tr>\n",
       "  </tbody>\n",
       "</table>\n",
       "</div>"
      ],
      "text/plain": [
       "          ID                            Position  \\\n",
       "0  363107946                           Секретарь   \n",
       "1  363125198  Заместитель управляющего магазином   \n",
       "2  363144355               Персональный менеджер   \n",
       "\n",
       "                                             Content  \n",
       "0  {'Условия': ['Срочно требуется:Секретарь', 'Вы...  \n",
       "1  {'Условия': ['Наша миссия — мы делаем качество...  \n",
       "2  {'Требования': ['окончили вуз', 'разбираетесь ...  "
      ]
     },
     "execution_count": 8,
     "metadata": {},
     "output_type": "execute_result"
    }
   ],
   "source": [
    "df_json = pd.read_json(PATH+'vacancy_descriptions/1_parsed.json')\n",
    "df_json.head(3)"
   ]
  },
  {
   "cell_type": "code",
   "execution_count": 9,
   "id": "a90601bc",
   "metadata": {},
   "outputs": [
    {
     "data": {
      "text/plain": [
       "['/mnt/disk_d/hack-fu/data/raw/vacancy_descriptions/2_parsed.json',\n",
       " '/mnt/disk_d/hack-fu/data/raw/vacancy_descriptions/3_parsed.json',\n",
       " '/mnt/disk_d/hack-fu/data/raw/vacancy_descriptions/4_parsed.json',\n",
       " '/mnt/disk_d/hack-fu/data/raw/vacancy_descriptions/5_parsed.json']"
      ]
     },
     "execution_count": 9,
     "metadata": {},
     "output_type": "execute_result"
    }
   ],
   "source": [
    "json_paths = [PATH+'vacancy_descriptions/'+str(i)+'_parsed.json' for i in range(2,6)]\n",
    "json_paths"
   ]
  },
  {
   "cell_type": "code",
   "execution_count": 10,
   "id": "01555092",
   "metadata": {},
   "outputs": [],
   "source": [
    "for path in json_paths:\n",
    "    df_json_temp = pd.read_json(path)\n",
    "    df_json = pd.concat([df_json,df_json_temp],axis = 0)"
   ]
  },
  {
   "cell_type": "code",
   "execution_count": 11,
   "id": "2a40d2c2",
   "metadata": {},
   "outputs": [],
   "source": [
    "df_json['content'] = df_json['Content'].apply(lambda x: list(x.values()))"
   ]
  },
  {
   "cell_type": "code",
   "execution_count": 12,
   "id": "54bdf236",
   "metadata": {},
   "outputs": [],
   "source": [
    "df_json['index'] = df_json['ID'].rename('index') "
   ]
  },
  {
   "cell_type": "code",
   "execution_count": 13,
   "id": "edaabf70",
   "metadata": {},
   "outputs": [],
   "source": [
    "df_json = df_json.drop(['Content','ID'],axis = 1)"
   ]
  },
  {
   "cell_type": "code",
   "execution_count": 14,
   "id": "f30800e2",
   "metadata": {},
   "outputs": [
    {
     "data": {
      "text/html": [
       "<div>\n",
       "<style scoped>\n",
       "    .dataframe tbody tr th:only-of-type {\n",
       "        vertical-align: middle;\n",
       "    }\n",
       "\n",
       "    .dataframe tbody tr th {\n",
       "        vertical-align: top;\n",
       "    }\n",
       "\n",
       "    .dataframe thead th {\n",
       "        text-align: right;\n",
       "    }\n",
       "</style>\n",
       "<table border=\"1\" class=\"dataframe\">\n",
       "  <thead>\n",
       "    <tr style=\"text-align: right;\">\n",
       "      <th></th>\n",
       "      <th>Position</th>\n",
       "      <th>content</th>\n",
       "      <th>index</th>\n",
       "    </tr>\n",
       "  </thead>\n",
       "  <tbody>\n",
       "    <tr>\n",
       "      <th>0</th>\n",
       "      <td>Секретарь</td>\n",
       "      <td>[[Срочно требуется:Секретарь, Выплаты ежедневн...</td>\n",
       "      <td>363107946</td>\n",
       "    </tr>\n",
       "    <tr>\n",
       "      <th>1</th>\n",
       "      <td>Заместитель управляющего магазином</td>\n",
       "      <td>[[Наша миссия — мы делаем качество доступным! ...</td>\n",
       "      <td>363125198</td>\n",
       "    </tr>\n",
       "    <tr>\n",
       "      <th>2</th>\n",
       "      <td>Персональный менеджер</td>\n",
       "      <td>[[окончили вуз, разбираетесь в законах о банко...</td>\n",
       "      <td>363144355</td>\n",
       "    </tr>\n",
       "    <tr>\n",
       "      <th>3</th>\n",
       "      <td>Продавец-консультант ECCO (ТЦ Сити Молл)</td>\n",
       "      <td>[[Обладаешь хорошими коммуникативными навыками...</td>\n",
       "      <td>363340232</td>\n",
       "    </tr>\n",
       "    <tr>\n",
       "      <th>4</th>\n",
       "      <td>Агент/Риэлтор (Помощник Риэлтора)</td>\n",
       "      <td>[[Организовывать и проводить просмотры/показы ...</td>\n",
       "      <td>363383054</td>\n",
       "    </tr>\n",
       "    <tr>\n",
       "      <th>...</th>\n",
       "      <td>...</td>\n",
       "      <td>...</td>\n",
       "      <td>...</td>\n",
       "    </tr>\n",
       "    <tr>\n",
       "      <th>7560</th>\n",
       "      <td>Подсобный рабочий</td>\n",
       "      <td>[[В сведениях о потребности в работниках работ...</td>\n",
       "      <td>38512229</td>\n",
       "    </tr>\n",
       "    <tr>\n",
       "      <th>7561</th>\n",
       "      <td>Электросварщик на автоматических и полуавтомат...</td>\n",
       "      <td>[[ЭЛЕКТРОСВАРКА ДЕТАЛЕЙ И УЗЛОВ,ВЫЯВЛЕНИЕ И  П...</td>\n",
       "      <td>38512271</td>\n",
       "    </tr>\n",
       "    <tr>\n",
       "      <th>7562</th>\n",
       "      <td>Электромонтер оперативно-выездной бригады 3 ра...</td>\n",
       "      <td>[[Выполняет должностные обязанности согласно д...</td>\n",
       "      <td>38512900</td>\n",
       "    </tr>\n",
       "    <tr>\n",
       "      <th>7563</th>\n",
       "      <td>Оператор машинного доения</td>\n",
       "      <td>[[Выполнение должностных обязанностей в соотве...</td>\n",
       "      <td>38513191</td>\n",
       "    </tr>\n",
       "    <tr>\n",
       "      <th>7564</th>\n",
       "      <td>Оператор машинного доения</td>\n",
       "      <td>[[выполнять массаж подмывание вымени и другие ...</td>\n",
       "      <td>37331640</td>\n",
       "    </tr>\n",
       "  </tbody>\n",
       "</table>\n",
       "<p>47566 rows × 3 columns</p>\n",
       "</div>"
      ],
      "text/plain": [
       "                                               Position  \\\n",
       "0                                             Секретарь   \n",
       "1                    Заместитель управляющего магазином   \n",
       "2                                 Персональный менеджер   \n",
       "3              Продавец-консультант ECCO (ТЦ Сити Молл)   \n",
       "4                     Агент/Риэлтор (Помощник Риэлтора)   \n",
       "...                                                 ...   \n",
       "7560                                  Подсобный рабочий   \n",
       "7561  Электросварщик на автоматических и полуавтомат...   \n",
       "7562  Электромонтер оперативно-выездной бригады 3 ра...   \n",
       "7563                          Оператор машинного доения   \n",
       "7564                          Оператор машинного доения   \n",
       "\n",
       "                                                content      index  \n",
       "0     [[Срочно требуется:Секретарь, Выплаты ежедневн...  363107946  \n",
       "1     [[Наша миссия — мы делаем качество доступным! ...  363125198  \n",
       "2     [[окончили вуз, разбираетесь в законах о банко...  363144355  \n",
       "3     [[Обладаешь хорошими коммуникативными навыками...  363340232  \n",
       "4     [[Организовывать и проводить просмотры/показы ...  363383054  \n",
       "...                                                 ...        ...  \n",
       "7560  [[В сведениях о потребности в работниках работ...   38512229  \n",
       "7561  [[ЭЛЕКТРОСВАРКА ДЕТАЛЕЙ И УЗЛОВ,ВЫЯВЛЕНИЕ И  П...   38512271  \n",
       "7562  [[Выполняет должностные обязанности согласно д...   38512900  \n",
       "7563  [[Выполнение должностных обязанностей в соотве...   38513191  \n",
       "7564  [[выполнять массаж подмывание вымени и другие ...   37331640  \n",
       "\n",
       "[47566 rows x 3 columns]"
      ]
     },
     "execution_count": 14,
     "metadata": {},
     "output_type": "execute_result"
    }
   ],
   "source": [
    "df_json"
   ]
  },
  {
   "cell_type": "markdown",
   "id": "79c1d475",
   "metadata": {},
   "source": [
    "# Merging"
   ]
  },
  {
   "cell_type": "code",
   "execution_count": 15,
   "id": "b8cc65ca",
   "metadata": {},
   "outputs": [
    {
     "data": {
      "text/plain": [
       "(47566, 6)"
      ]
     },
     "execution_count": 15,
     "metadata": {},
     "output_type": "execute_result"
    }
   ],
   "source": [
    "df = df_json.merge(df_train,how='left',on='index')\n",
    "df.shape"
   ]
  },
  {
   "cell_type": "code",
   "execution_count": 16,
   "id": "bf967902",
   "metadata": {},
   "outputs": [
    {
     "data": {
      "text/html": [
       "<div>\n",
       "<style scoped>\n",
       "    .dataframe tbody tr th:only-of-type {\n",
       "        vertical-align: middle;\n",
       "    }\n",
       "\n",
       "    .dataframe tbody tr th {\n",
       "        vertical-align: top;\n",
       "    }\n",
       "\n",
       "    .dataframe thead th {\n",
       "        text-align: right;\n",
       "    }\n",
       "</style>\n",
       "<table border=\"1\" class=\"dataframe\">\n",
       "  <thead>\n",
       "    <tr style=\"text-align: right;\">\n",
       "      <th></th>\n",
       "      <th>Position</th>\n",
       "      <th>content</th>\n",
       "      <th>index</th>\n",
       "      <th>name</th>\n",
       "      <th>description</th>\n",
       "      <th>target</th>\n",
       "    </tr>\n",
       "  </thead>\n",
       "  <tbody>\n",
       "    <tr>\n",
       "      <th>0</th>\n",
       "      <td>Секретарь</td>\n",
       "      <td>[[Срочно требуется:Секретарь, Выплаты ежедневн...</td>\n",
       "      <td>363107946</td>\n",
       "      <td>секретарь</td>\n",
       "      <td>&lt;p&gt;&lt;strong&gt;Срочно требуется:&lt;/strong&gt;&lt;/p&gt; &lt;p&gt;С...</td>\n",
       "      <td>-1.0</td>\n",
       "    </tr>\n",
       "    <tr>\n",
       "      <th>1</th>\n",
       "      <td>Заместитель управляющего магазином</td>\n",
       "      <td>[[Наша миссия — мы делаем качество доступным! ...</td>\n",
       "      <td>363125198</td>\n",
       "      <td>заместитель управляющего магазином</td>\n",
       "      <td>&lt;p&gt;&lt;strong&gt;Что мы предлагаем:&lt;/strong&gt;&lt;/p&gt; &lt;p&gt;...</td>\n",
       "      <td>1420.0</td>\n",
       "    </tr>\n",
       "    <tr>\n",
       "      <th>2</th>\n",
       "      <td>Персональный менеджер</td>\n",
       "      <td>[[окончили вуз, разбираетесь в законах о банко...</td>\n",
       "      <td>363144355</td>\n",
       "      <td>NaN</td>\n",
       "      <td>NaN</td>\n",
       "      <td>NaN</td>\n",
       "    </tr>\n",
       "    <tr>\n",
       "      <th>3</th>\n",
       "      <td>Продавец-консультант ECCO (ТЦ Сити Молл)</td>\n",
       "      <td>[[Обладаешь хорошими коммуникативными навыками...</td>\n",
       "      <td>363340232</td>\n",
       "      <td>продавец консультант ecco (тц сити молл)</td>\n",
       "      <td>&lt;p&gt;Датская компания &lt;strong&gt;ECCO&lt;/strong&gt; боле...</td>\n",
       "      <td>-1.0</td>\n",
       "    </tr>\n",
       "    <tr>\n",
       "      <th>4</th>\n",
       "      <td>Агент/Риэлтор (Помощник Риэлтора)</td>\n",
       "      <td>[[Организовывать и проводить просмотры/показы ...</td>\n",
       "      <td>363383054</td>\n",
       "      <td>NaN</td>\n",
       "      <td>NaN</td>\n",
       "      <td>NaN</td>\n",
       "    </tr>\n",
       "    <tr>\n",
       "      <th>...</th>\n",
       "      <td>...</td>\n",
       "      <td>...</td>\n",
       "      <td>...</td>\n",
       "      <td>...</td>\n",
       "      <td>...</td>\n",
       "      <td>...</td>\n",
       "    </tr>\n",
       "    <tr>\n",
       "      <th>47561</th>\n",
       "      <td>Подсобный рабочий</td>\n",
       "      <td>[[В сведениях о потребности в работниках работ...</td>\n",
       "      <td>38512229</td>\n",
       "      <td>подсобный рабочий</td>\n",
       "      <td>В сведениях о потребности в работниках работод...</td>\n",
       "      <td>-1.0</td>\n",
       "    </tr>\n",
       "    <tr>\n",
       "      <th>47562</th>\n",
       "      <td>Электросварщик на автоматических и полуавтомат...</td>\n",
       "      <td>[[ЭЛЕКТРОСВАРКА ДЕТАЛЕЙ И УЗЛОВ,ВЫЯВЛЕНИЕ И  П...</td>\n",
       "      <td>38512271</td>\n",
       "      <td>электросварщик на автоматических и полуавтомат...</td>\n",
       "      <td>ЭЛЕКТРОСВАРКА ДЕТАЛЕЙ И УЗЛОВ,ВЫЯВЛЕНИЕ И  ПРЕ...</td>\n",
       "      <td>-1.0</td>\n",
       "    </tr>\n",
       "    <tr>\n",
       "      <th>47563</th>\n",
       "      <td>Электромонтер оперативно-выездной бригады 3 ра...</td>\n",
       "      <td>[[Выполняет должностные обязанности согласно д...</td>\n",
       "      <td>38512900</td>\n",
       "      <td>электромонтер оперативно выездной бригады 3 ра...</td>\n",
       "      <td>Выполняет должностные обязанности согласно дол...</td>\n",
       "      <td>7412.0</td>\n",
       "    </tr>\n",
       "    <tr>\n",
       "      <th>47564</th>\n",
       "      <td>Оператор машинного доения</td>\n",
       "      <td>[[Выполнение должностных обязанностей в соотве...</td>\n",
       "      <td>38513191</td>\n",
       "      <td>оператор машинного доения</td>\n",
       "      <td>Выполнение должностных обязанностей в соответс...</td>\n",
       "      <td>-1.0</td>\n",
       "    </tr>\n",
       "    <tr>\n",
       "      <th>47565</th>\n",
       "      <td>Оператор машинного доения</td>\n",
       "      <td>[[выполнять массаж подмывание вымени и другие ...</td>\n",
       "      <td>37331640</td>\n",
       "      <td>оператор машинного доения</td>\n",
       "      <td>&lt;p&gt;&amp;nbsp;&amp;nbsp;&amp;nbsp;&amp;nbsp; -&amp;nbsp;&amp;nbsp;выпол...</td>\n",
       "      <td>-1.0</td>\n",
       "    </tr>\n",
       "  </tbody>\n",
       "</table>\n",
       "<p>47566 rows × 6 columns</p>\n",
       "</div>"
      ],
      "text/plain": [
       "                                                Position  \\\n",
       "0                                              Секретарь   \n",
       "1                     Заместитель управляющего магазином   \n",
       "2                                  Персональный менеджер   \n",
       "3               Продавец-консультант ECCO (ТЦ Сити Молл)   \n",
       "4                      Агент/Риэлтор (Помощник Риэлтора)   \n",
       "...                                                  ...   \n",
       "47561                                  Подсобный рабочий   \n",
       "47562  Электросварщик на автоматических и полуавтомат...   \n",
       "47563  Электромонтер оперативно-выездной бригады 3 ра...   \n",
       "47564                          Оператор машинного доения   \n",
       "47565                          Оператор машинного доения   \n",
       "\n",
       "                                                 content      index  \\\n",
       "0      [[Срочно требуется:Секретарь, Выплаты ежедневн...  363107946   \n",
       "1      [[Наша миссия — мы делаем качество доступным! ...  363125198   \n",
       "2      [[окончили вуз, разбираетесь в законах о банко...  363144355   \n",
       "3      [[Обладаешь хорошими коммуникативными навыками...  363340232   \n",
       "4      [[Организовывать и проводить просмотры/показы ...  363383054   \n",
       "...                                                  ...        ...   \n",
       "47561  [[В сведениях о потребности в работниках работ...   38512229   \n",
       "47562  [[ЭЛЕКТРОСВАРКА ДЕТАЛЕЙ И УЗЛОВ,ВЫЯВЛЕНИЕ И  П...   38512271   \n",
       "47563  [[Выполняет должностные обязанности согласно д...   38512900   \n",
       "47564  [[Выполнение должностных обязанностей в соотве...   38513191   \n",
       "47565  [[выполнять массаж подмывание вымени и другие ...   37331640   \n",
       "\n",
       "                                                    name  \\\n",
       "0                                              секретарь   \n",
       "1                     заместитель управляющего магазином   \n",
       "2                                                    NaN   \n",
       "3               продавец консультант ecco (тц сити молл)   \n",
       "4                                                    NaN   \n",
       "...                                                  ...   \n",
       "47561                                  подсобный рабочий   \n",
       "47562  электросварщик на автоматических и полуавтомат...   \n",
       "47563  электромонтер оперативно выездной бригады 3 ра...   \n",
       "47564                          оператор машинного доения   \n",
       "47565                          оператор машинного доения   \n",
       "\n",
       "                                             description  target  \n",
       "0      <p><strong>Срочно требуется:</strong></p> <p>С...    -1.0  \n",
       "1      <p><strong>Что мы предлагаем:</strong></p> <p>...  1420.0  \n",
       "2                                                    NaN     NaN  \n",
       "3      <p>Датская компания <strong>ECCO</strong> боле...    -1.0  \n",
       "4                                                    NaN     NaN  \n",
       "...                                                  ...     ...  \n",
       "47561  В сведениях о потребности в работниках работод...    -1.0  \n",
       "47562  ЭЛЕКТРОСВАРКА ДЕТАЛЕЙ И УЗЛОВ,ВЫЯВЛЕНИЕ И  ПРЕ...    -1.0  \n",
       "47563  Выполняет должностные обязанности согласно дол...  7412.0  \n",
       "47564  Выполнение должностных обязанностей в соответс...    -1.0  \n",
       "47565  <p>&nbsp;&nbsp;&nbsp;&nbsp; -&nbsp;&nbsp;выпол...    -1.0  \n",
       "\n",
       "[47566 rows x 6 columns]"
      ]
     },
     "execution_count": 16,
     "metadata": {},
     "output_type": "execute_result"
    }
   ],
   "source": [
    "df"
   ]
  },
  {
   "cell_type": "code",
   "execution_count": 17,
   "id": "da794c76",
   "metadata": {},
   "outputs": [
    {
     "data": {
      "text/html": [
       "<div>\n",
       "<style scoped>\n",
       "    .dataframe tbody tr th:only-of-type {\n",
       "        vertical-align: middle;\n",
       "    }\n",
       "\n",
       "    .dataframe tbody tr th {\n",
       "        vertical-align: top;\n",
       "    }\n",
       "\n",
       "    .dataframe thead th {\n",
       "        text-align: right;\n",
       "    }\n",
       "</style>\n",
       "<table border=\"1\" class=\"dataframe\">\n",
       "  <thead>\n",
       "    <tr style=\"text-align: right;\">\n",
       "      <th></th>\n",
       "      <th>Position</th>\n",
       "      <th>content</th>\n",
       "      <th>index</th>\n",
       "      <th>description</th>\n",
       "      <th>target</th>\n",
       "    </tr>\n",
       "  </thead>\n",
       "  <tbody>\n",
       "    <tr>\n",
       "      <th>0</th>\n",
       "      <td>Секретарь</td>\n",
       "      <td>[[Срочно требуется:Секретарь, Выплаты ежедневн...</td>\n",
       "      <td>363107946</td>\n",
       "      <td>&lt;p&gt;&lt;strong&gt;Срочно требуется:&lt;/strong&gt;&lt;/p&gt; &lt;p&gt;С...</td>\n",
       "      <td>-1</td>\n",
       "    </tr>\n",
       "    <tr>\n",
       "      <th>1</th>\n",
       "      <td>Заместитель управляющего магазином</td>\n",
       "      <td>[[Наша миссия — мы делаем качество доступным! ...</td>\n",
       "      <td>363125198</td>\n",
       "      <td>&lt;p&gt;&lt;strong&gt;Что мы предлагаем:&lt;/strong&gt;&lt;/p&gt; &lt;p&gt;...</td>\n",
       "      <td>1420</td>\n",
       "    </tr>\n",
       "    <tr>\n",
       "      <th>2</th>\n",
       "      <td>Персональный менеджер</td>\n",
       "      <td>[[окончили вуз, разбираетесь в законах о банко...</td>\n",
       "      <td>363144355</td>\n",
       "      <td>nan</td>\n",
       "      <td>-1</td>\n",
       "    </tr>\n",
       "  </tbody>\n",
       "</table>\n",
       "</div>"
      ],
      "text/plain": [
       "                             Position  \\\n",
       "0                           Секретарь   \n",
       "1  Заместитель управляющего магазином   \n",
       "2               Персональный менеджер   \n",
       "\n",
       "                                             content      index  \\\n",
       "0  [[Срочно требуется:Секретарь, Выплаты ежедневн...  363107946   \n",
       "1  [[Наша миссия — мы делаем качество доступным! ...  363125198   \n",
       "2  [[окончили вуз, разбираетесь в законах о банко...  363144355   \n",
       "\n",
       "                                         description  target  \n",
       "0  <p><strong>Срочно требуется:</strong></p> <p>С...      -1  \n",
       "1  <p><strong>Что мы предлагаем:</strong></p> <p>...    1420  \n",
       "2                                                nan      -1  "
      ]
     },
     "execution_count": 17,
     "metadata": {},
     "output_type": "execute_result"
    }
   ],
   "source": [
    "df = df.drop('name',axis = 1)\n",
    "df['target'] = df['target'].fillna(-1.0)\n",
    "df['target'] = df['target'].astype(int)\n",
    "df['description'] = df['description'].astype(str)\n",
    "df.head(3)"
   ]
  },
  {
   "cell_type": "markdown",
   "id": "2aeeabd5",
   "metadata": {},
   "source": [
    "# Cleaning"
   ]
  },
  {
   "cell_type": "code",
   "execution_count": 18,
   "id": "28115827",
   "metadata": {},
   "outputs": [],
   "source": [
    "html_regexp = re.compile(r'<.*?>')\n",
    "df['description'] = df['description'].apply(lambda x:  html_regexp.sub(r'', x))"
   ]
  },
  {
   "cell_type": "markdown",
   "id": "387b7519",
   "metadata": {},
   "source": [
    "# Saving"
   ]
  },
  {
   "cell_type": "code",
   "execution_count": 19,
   "id": "7915c5c8",
   "metadata": {},
   "outputs": [],
   "source": [
    "df_labeled = df[df['target'] != -1].to_csv(OUTPUT_PATH+'labeled.csv',index = False)\n",
    "df_unlabeled = df[df['target'] == -1].to_csv(OUTPUT_PATH+'unlabeled.csv',index = False)"
   ]
  },
  {
   "cell_type": "code",
   "execution_count": null,
   "id": "d9ec00cd",
   "metadata": {},
   "outputs": [],
   "source": []
  }
 ],
 "metadata": {
  "kernelspec": {
   "display_name": "Python 3 (ipykernel)",
   "language": "python",
   "name": "python3"
  },
  "language_info": {
   "codemirror_mode": {
    "name": "ipython",
    "version": 3
   },
   "file_extension": ".py",
   "mimetype": "text/x-python",
   "name": "python",
   "nbconvert_exporter": "python",
   "pygments_lexer": "ipython3",
   "version": "3.9.13"
  }
 },
 "nbformat": 4,
 "nbformat_minor": 5
}
